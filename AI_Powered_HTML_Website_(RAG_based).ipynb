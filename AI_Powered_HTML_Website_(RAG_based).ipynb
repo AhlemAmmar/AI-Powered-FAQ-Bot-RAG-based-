{
  "nbformat": 4,
  "nbformat_minor": 0,
  "metadata": {
    "colab": {
      "provenance": [],
      "authorship_tag": "ABX9TyOX0TBuCf8ppokSyMYI20mD",
      "include_colab_link": true
    },
    "kernelspec": {
      "name": "python3",
      "display_name": "Python 3"
    },
    "language_info": {
      "name": "python"
    }
  },
  "cells": [
    {
      "cell_type": "markdown",
      "metadata": {
        "id": "view-in-github",
        "colab_type": "text"
      },
      "source": [
        "<a href=\"https://colab.research.google.com/github/AhlemAmmar/AI-Powered-FAQ-Bot-RAG-based-/blob/main/AI_Powered_HTML_Website_(RAG_based).ipynb\" target=\"_parent\"><img src=\"https://colab.research.google.com/assets/colab-badge.svg\" alt=\"Open In Colab\"/></a>"
      ]
    },
    {
      "cell_type": "markdown",
      "source": [
        "# Crawl HTML Based Website"
      ],
      "metadata": {
        "id": "0OTwstLsbWyR"
      }
    },
    {
      "cell_type": "code",
      "source": [
        "import requests\n",
        "from bs4 import BeautifulSoup\n",
        "from urllib.parse import urljoin, urlparse\n",
        "from collections import deque\n",
        "\n"
      ],
      "metadata": {
        "id": "SQDyh5pLbG29"
      },
      "execution_count": 59,
      "outputs": []
    },
    {
      "cell_type": "code",
      "source": [
        "\n",
        "\n",
        "def scrape_wikibooks_paragraphs(start_url,visited_pages, max_pages=100,levelMin=2,levelMax=3):\n",
        "    visited = set()\n",
        "    queue = deque([start_url])\n",
        "    ##if u want to choose domain as netloc\n",
        "    #domain = urlparse(start_url).netloc\n",
        "    ## if you want to choose domain as the start url\n",
        "    domain = start_url\n",
        "\n",
        "    headers = {\n",
        "        \"User-Agent\": (\n",
        "            \"Mozilla/5.0 (Windows NT 10.0; Win64; x64) \"\n",
        "            \"AppleWebKit/537.36 (KHTML, like Gecko) \"\n",
        "            \"Chrome/120.0.0.0 Safari/537.36\"\n",
        "        )\n",
        "    }\n",
        "\n",
        "\n",
        "    while queue and len(visited) < max_pages:\n",
        "        url = queue.popleft()\n",
        "\n",
        "        if url in visited:\n",
        "            continue\n",
        "        try:\n",
        "            print(f'visited webPage n°{len(visited)+1}: {url}')\n",
        "\n",
        "            resp = requests.get(url, headers=headers, timeout=10)\n",
        "            if resp.status_code != 200:\n",
        "                continue\n",
        "            resp.raise_for_status()\n",
        "            soup = BeautifulSoup(resp.text, \"html.parser\")\n",
        "            links=soup.find_all(\"a\", href=True)\n",
        "            # Extract all <p> tags inside the main content area\n",
        "            paragraphs = soup.select(\"p\")\n",
        "\n",
        "            # Join all paragraph texts with newlines\n",
        "            page_text = \"\\n\".join(p.get_text(strip=True) for p in paragraphs if p.get_text(strip=True))\n",
        "\n",
        "            for link in links:\n",
        "\n",
        "                parsed=urlparse(link[\"href\"]).path\n",
        "                parts=parsed.strip('/').split('/')\n",
        "                full_url = urljoin(url,parsed)\n",
        "\n",
        "                if  full_url not in visited and full_url.startswith(start_url+'/') and len(parts)in [levelMin,levelMax]:\n",
        "\n",
        "                    queue.append(full_url)\n",
        "\n",
        "\n",
        "            visited_pages.append(\n",
        "                {\n",
        "                    \"url\": url,\n",
        "                    \"response\": resp.status_code,\n",
        "                    \"content\": page_text,\n",
        "                }\n",
        "            )\n",
        "            visited.add(url)\n",
        "        except Exception as e:\n",
        "            print(\"Error:\", e)\n",
        "\n",
        "    return visited_pages\n",
        "\n",
        "if __name__ == \"__main__\":\n",
        "    website_scrapped=[]\n",
        "    urls=[\"https://www.discovertunisia.com/en/tunisia-all-year-round\"]\n",
        "    for url in urls:\n",
        "        website_scrapped = scrape_wikibooks_paragraphs(url,website_scrapped)\n",
        "\n",
        "\n"
      ],
      "metadata": {
        "colab": {
          "base_uri": "https://localhost:8080/"
        },
        "id": "Tbmzr9SHGmSN",
        "outputId": "d5ad66c5-00e3-4a5c-be07-515c565a36b1",
        "collapsed": true
      },
      "execution_count": 60,
      "outputs": [
        {
          "output_type": "stream",
          "name": "stdout",
          "text": [
            "visited webPage n°1: https://www.discovertunisia.com/en/tunisia-all-year-round\n",
            "visited webPage n°2: https://www.discovertunisia.com/en/tunisia-all-year-round/winter\n",
            "visited webPage n°3: https://www.discovertunisia.com/en/tunisia-all-year-round/spring\n",
            "visited webPage n°4: https://www.discovertunisia.com/en/tunisia-all-year-round/summer\n",
            "visited webPage n°5: https://www.discovertunisia.com/en/tunisia-all-year-round/autumn\n"
          ]
        }
      ]
    },
    {
      "cell_type": "code",
      "source": [
        "website_scrapped"
      ],
      "metadata": {
        "id": "wZxJ4u62bIYB",
        "colab": {
          "base_uri": "https://localhost:8080/"
        },
        "outputId": "0d80a972-3e33-435f-d6a5-86473a97153c"
      },
      "execution_count": 61,
      "outputs": [
        {
          "output_type": "execute_result",
          "data": {
            "text/plain": [
              "[{'url': 'https://www.discovertunisia.com/en/tunisia-all-year-round',\n",
              "  'response': 200,\n",
              "  'content': 'Mild and sunny, the winter is perfect for long walks, horse rides, drives and motorbike trips. It’s the ideal season for exploring the Sahara or visiting medinas, museums and archaeological sites. Alternatives include a spa treatment and fitness regime or a round of golf on one of Tunisia’s greens.\\nThe season of light and greenery, it is springtime in Tunisia that inspired the painter, Paul Klee, during his famous trip to the country. Make the most of this beautiful season for a break by the water, to practise your favourite water sport or to explore sites and locations imbued with history.\\nIn the summer, Tunisia is the ultimate seaside destination: endless beaches, hotels and clubs to suit everyone and bustling tourist resorts. In summer, the country really comes alive at night, with plenty of opportunities to let your hair down.\\nMake the most of the mild autumns for a swim in the sea, boat trip or an adventure in the Sahara. And if you’re feeling a bit more athletic, there’s golf, water sports and kitesurfing too. Whatever you choose, you can follow it up with a pampering session at one of the many Thalasso & Spa centres.\\nCopyright 2016 Tunisian National Tourist Office'},\n",
              " {'url': 'https://www.discovertunisia.com/en/tunisia-all-year-round/winter',\n",
              "  'response': 200,\n",
              "  'content': 'Thanks to its lovely weather and almost year-round sunshine, Tunisia still has plenty to offer in winter. In fact, it’s the most popular season for thalasso centres and spas, with visitors from around the world. It’s also in winter that Tunisian and European golfers flock to the golf courses, while boats and yachts find refuge in one of the country’s many marinas.\\nFor nature lovers, winter is all about long walks and fascinating encounters with birds that have travelled here from the north, for which Tunisia is one of the biggest migration corridors. Indeed, the Gulf of Gabès, with the island of Djerba and the archipelago of Kerkennah are the site of the biggest gathering of migratory waders in the Mediterranean.\\nWinter in Tunisia is also the perfect opportunity to browse the medinas (the ones in Tunis, Kairouan and Sousse are UNESCO world heritage sites), visit museums such as the Bardo in Tunis, which boasts the largest collection of mosaics in the world, or set off on an excursion to one of the country’s fantastic archaeological sites (including Dougga, Carthage and the Roman amphitheatre at El Djem). And while the hotels, camps and farmhouses of southern Tunisia continue to welcome holidaymakers, the Tunisian Sahara is also becoming a popular destination for adventure racing and motorbike, 4x4 and quad bike adventures.\\nCopyright 2016 Tunisian National Tourist Office'},\n",
              " {'url': 'https://www.discovertunisia.com/en/tunisia-all-year-round/spring',\n",
              "  'response': 200,\n",
              "  'content': 'Renowned for its greenery, Tunisia is never more beautiful than in the spring. The profusion of colour and light transforms the country and set off the landscape to perfection. It must have been this vision that had such an effect on the painter, Paul Klee, during his trip to Tunisia in April 1914, and that encouraged him to paint his most luminous pictures. Follow in the footsteps of the painter from Sidi Bou Said to Kairouan.\\nOr a tour of some archaeological sites, which never look more beautiful than when they are studded with flowers. Nature lovers can get off the beaten track and enjoy a walk through the forests and mountains of the north, or embark on a boat trip around the many islands dotted along the Tunisian coastline. If it’s hunting you’re into, you can hunt wild boar in several regions, including on the outskirts of the Sahara.\\nAnd if you prefer to take things a bit easier, let yourself be pampered in a thalasso centre or a spa to recover from the damage done by winter. If you’re in search of some serious relaxation you can choose from one of the country’s many resorts for days lounging by the beach and enjoying some delicious food, and nights living it up and letting your hair down. Springtime in Tunisia also marks the start of an impressive programme of festivals, from Jazz in Carthage to the return of DJ nights in nightclubs and lounge bars in several cities.\\nCopyright 2016 Tunisian National Tourist Office'},\n",
              " {'url': 'https://www.discovertunisia.com/en/tunisia-all-year-round/summer',\n",
              "  'response': 200,\n",
              "  'content': 'Miles of white sandy beaches, the clear blue sea, every water sport you can think of, hotels and clubs dedicated to holidaymakers, tourist resorts that are as bustling during the day as they are at night, a fantastic mix of restaurants to suit every budget, buzzing medinas, amazing shopping opportunities and warm, welcoming people. These are just some of the reasons why Tunisia has become one of the best-known summer destinations in the Mediterranean. What is less well known is the fact that holidays in Tunisia can also be about getting off the beaten track.\\nThere are also lots of romantic, little known beaches, studded with unusually shaped rocks, or lined with palm trees and golden sand dunes. Charming guesthouses and hotels are springing up all over the place and there’s bound to be one to satisfy your search for authenticity. The countryside is studded with converted farmhouses and rural cottages, while the historic towns are filled with beautiful traditional houses with courtyards and colonnades. In the south and the little towns on the coast, you can marvel at the poetry of their stunningly simple architecture.\\nIf you visit Tunisia in the summer, you can also explore the country’s cultural richness, with Carthage of course, but also Dougga, Bulla Regia and Makthar in the north, or the Roman amphitheatre of El Djem near Mahdia. And gorgeous museums like the Bardo in Tunis or the one in Sousse are well worth a visit, with their exceptional collections of mosaics. For younger visitors, the Friguia Animal Park near Hammamet is a must, with its cats, giraffes and elephants in a semi-wild environment. Last but by no means least, Tunisia in the summer is all about the nightlife: from nightclubs, open-air clubs to lounge bars with DJs, there are plenty of opportunities to let your hair down.\\nCopyright 2016 Tunisian National Tourist Office'},\n",
              " {'url': 'https://www.discovertunisia.com/en/tunisia-all-year-round/autumn',\n",
              "  'response': 200,\n",
              "  'content': 'Autumn in Tunisia is all about swimming in the sea and long walks along the beach, boat trips and water sports. It’s also a busy time of year for Tunisia’s thalasso and spa centres, renowned for the quality and diversity of their treatments. Golfers make the most of the mild temperatures to challenge themselves on one of the country’s ten golf courses, from Tabarka in the north to Tozeur in the south. Other sports lovers have made autumn their favourite season, including kitesurfers, who practise their acrobatic skills on the beaches of Kalaat Landlous or Djerba.\\nGame hunters will find plenty to keep them occupied in the stunning Mediterranean landscapes of the north or the fringes of the oasis in the south. But autumn remains the best season for exploring the Tunisian Sahara. A wonderful world of sand dunes, steep mountains and lush green oases. Explore on the back of a camel, during a walk through the dunes or a ride on a quad bike, motorbike or in a 4x4 to really get to grips with nature, or even from the air in an ultralight for a truly exhilarating experience.\\nFor music lovers, autumn is marked by a number of festivals which are well worth the trip: Musical October for fans of classical music is held at the Acropolium in Carthage, while the festival of traditional Mediterranean music, Musiqât, can be found at the Baron d’Erlanger Palace in Sidi Bou Said. And if you want to get your feet tapping, Les Dunes Electroniques is an annual celebration of electronic music at the location where Star Wars was filmed, right in the heart of the Sahara.\\nCopyright 2016 Tunisian National Tourist Office'}]"
            ]
          },
          "metadata": {},
          "execution_count": 61
        }
      ]
    },
    {
      "cell_type": "markdown",
      "source": [
        "## Setup RAG PIPELINE"
      ],
      "metadata": {
        "id": "RC4Xw4w_tE0H"
      }
    },
    {
      "cell_type": "code",
      "source": [
        "%pip install --quiet --upgrade langchain-text-splitters langchain-community langgraph"
      ],
      "metadata": {
        "id": "TdPyQQqnpMVG"
      },
      "execution_count": 62,
      "outputs": []
    },
    {
      "cell_type": "code",
      "source": [
        "import bs4\n",
        "from langchain import hub\n",
        "from langchain_community.document_loaders import WebBaseLoader\n",
        "from langchain_core.documents import Document\n",
        "from langchain_text_splitters import RecursiveCharacterTextSplitter\n",
        "from langgraph.graph import START, StateGraph\n",
        "from typing_extensions import List, TypedDict"
      ],
      "metadata": {
        "id": "a3VEBDw9nd4x"
      },
      "execution_count": 63,
      "outputs": []
    },
    {
      "cell_type": "code",
      "source": [
        "from google.colab import userdata\n",
        "import os\n",
        "\n",
        "os.environ[\"LANGSMITH_TRACING\"] = \"true\"\n",
        "os.environ[\"LANGSMITH_API_KEY\"]=userdata.get('LANGSMITH_API_KEY')"
      ],
      "metadata": {
        "id": "8q7oi2yMtBmz"
      },
      "execution_count": 64,
      "outputs": []
    },
    {
      "cell_type": "code",
      "source": [
        "%pip install -qU \"langchain[google-genai]\""
      ],
      "metadata": {
        "id": "q5k2jdEutOV-"
      },
      "execution_count": 65,
      "outputs": []
    },
    {
      "cell_type": "code",
      "source": [
        "if not os.environ.get(\"GOOGLE_API_KEY\"):\n",
        "  os.environ[\"GOOGLE_API_KEY\"] = userdata.get('GOOGLE_API_KEY')\n"
      ],
      "metadata": {
        "id": "XPhuCOwltQM0"
      },
      "execution_count": 66,
      "outputs": []
    },
    {
      "cell_type": "code",
      "source": [
        "from langchain.chat_models import init_chat_model\n",
        "# chat model\n",
        "llm = init_chat_model(\"gemini-2.5-flash\", model_provider=\"google_genai\")"
      ],
      "metadata": {
        "id": "C03AyGlXtVKf"
      },
      "execution_count": 67,
      "outputs": []
    },
    {
      "cell_type": "code",
      "source": [
        "%pip install -qU langchain-huggingface"
      ],
      "metadata": {
        "id": "5j6FfV0I6MNu"
      },
      "execution_count": 68,
      "outputs": []
    },
    {
      "cell_type": "code",
      "source": [
        "from langchain_huggingface import HuggingFaceEmbeddings\n",
        "\n",
        "embeddings_model = HuggingFaceEmbeddings(model_name=\"sentence-transformers/all-mpnet-base-v2\")"
      ],
      "metadata": {
        "id": "DF9F5pHn6PPQ"
      },
      "execution_count": 69,
      "outputs": []
    },
    {
      "cell_type": "code",
      "source": [
        "%pip install -qU langchain-core"
      ],
      "metadata": {
        "id": "_VgUaf7JtZgc"
      },
      "execution_count": 70,
      "outputs": []
    },
    {
      "cell_type": "code",
      "source": [
        "from langchain_core.vectorstores import InMemoryVectorStore\n",
        "#v in Memory vector store\n",
        "vector_store = InMemoryVectorStore(embeddings_model)"
      ],
      "metadata": {
        "id": "ckZABya_tdMu"
      },
      "execution_count": 71,
      "outputs": []
    },
    {
      "cell_type": "markdown",
      "source": [
        "**we can use the webBaseLoader which is a document loader load web pages into the LangChain Document format,it will return a list of Document objects -- one per page -- containing a single string of the page's text.**"
      ],
      "metadata": {
        "id": "xP-e6VMZcoqR"
      }
    },
    {
      "cell_type": "code",
      "source": [
        "from langchain_community.document_loaders import BSHTMLLoader\n",
        "#Loading HTML with BeautifulSoup4\n",
        "page_url = \"https://www.discovertunisia.com/en/tunisia-all-year-round\"\n",
        "loader = WebBaseLoader(web_paths=[page_url])\n",
        "docs = []\n",
        "async for doc in loader.alazy_load():\n",
        "    docs.append(doc)\n",
        "\n",
        "assert len(docs) == 1\n",
        "doc = docs[0]"
      ],
      "metadata": {
        "colab": {
          "base_uri": "https://localhost:8080/"
        },
        "id": "_AkUs993aOks",
        "outputId": "1e5a16eb-2106-458e-f2de-1da9f150eeb8"
      },
      "execution_count": 72,
      "outputs": [
        {
          "output_type": "stream",
          "name": "stderr",
          "text": [
            "Fetching pages: 100%|##########| 1/1 [00:01<00:00,  1.35s/it]\n"
          ]
        }
      ]
    },
    {
      "cell_type": "code",
      "source": [
        "print(f\"{doc.metadata}\\n\")\n",
        "print(doc.page_content[:500].strip())"
      ],
      "metadata": {
        "colab": {
          "base_uri": "https://localhost:8080/"
        },
        "collapsed": true,
        "id": "GFAFkAZGb5nH",
        "outputId": "9eea975e-ef19-494e-ffaf-9df341392007"
      },
      "execution_count": 73,
      "outputs": [
        {
          "output_type": "stream",
          "name": "stdout",
          "text": [
            "{'source': 'https://www.discovertunisia.com/en/tunisia-all-year-round', 'title': 'Holidays in Tunisia - All year round - Discover Tunisia', 'description': \"Holidays in Tunisia doesn't need a specific season to enjoy it, you can visit Tunisia all year round and any season, so you can have a very nice program any time of year in Tunisia don't hesitate to spend your holidays in Tunisia\", 'language': 'No language found.'}\n",
            "\n",
            "Holidays in Tunisia - All year round - Discover Tunisia\n",
            "\n",
            "\n",
            "\n",
            "\n",
            "\n",
            "\n",
            "\n",
            "\n",
            "\n",
            "\n",
            "\n",
            "\n",
            "\n",
            "\n",
            "\n",
            "\n",
            "\n",
            "\n",
            "\n",
            "\n",
            "\n",
            "\n",
            "\n",
            "\n",
            "\n",
            "\n",
            "\n",
            "\n",
            "\n",
            "\n",
            "\n",
            "\n",
            "\n",
            "\n",
            "Skip to main content\n",
            "\n",
            "\n",
            " \n",
            "\n",
            "\n",
            "\n",
            "\n",
            "\n",
            "\n",
            "\n",
            "\n",
            "\n",
            "English \n",
            "\n",
            "\n",
            "Français\n",
            "العربية\n",
            "Italiano\n",
            "English\n",
            "Deutsch\n",
            "中国\n",
            "Pyc\n",
            "český\n",
            "Polski\n",
            "Español\n",
            "\n",
            "\n",
            "\n",
            "\n",
            "\n",
            "\n",
            "\n",
            "\n",
            "\n",
            "\n",
            "\n",
            "\n",
            "Contact us\n",
            "Travel to Tunisia (Last update)\n",
            " \n",
            "\n",
            "\n",
            "\n",
            "\n",
            "\n",
            "\n",
            "Discover Tunisia\n",
            "\n",
            "Toggle navigation\n",
            "\n",
            "\n",
            "\n",
            "\n",
            "\n",
            "\n",
            "\n",
            "\n",
            "It’s time for Tunisia English\n",
            "Swedish  \n",
            "Danish \n",
            "\n",
            "Discover\n",
            "Tunisia all year round\n",
            "Thematic Routes Cinematographic  Route\n",
            "Culinary Route\n",
            "UNESCO Route\n",
            "\n",
            "Media center\n",
            "Even\n"
          ]
        }
      ]
    },
    {
      "cell_type": "markdown",
      "source": [
        "**But we will use our custom HTML Scrapper to retrive the text from a webpage and its primary child and prevent the non important content**"
      ],
      "metadata": {
        "id": "T0u3wa53dL9b"
      }
    },
    {
      "cell_type": "code",
      "source": [
        "from langchain.docstore.document import Document"
      ],
      "metadata": {
        "id": "3Vwuq11JdOxI"
      },
      "execution_count": 74,
      "outputs": []
    },
    {
      "cell_type": "code",
      "source": [
        "docs = [\n",
        "    Document(page_content=item[\"content\"], metadata={\"url\": item[\"url\"]})\n",
        "    for item in website_scrapped\n",
        "]"
      ],
      "metadata": {
        "id": "DU0J46Sqb9Dg"
      },
      "execution_count": 75,
      "outputs": []
    },
    {
      "cell_type": "code",
      "source": [
        "print(f\"Total characters: {len(docs[0].page_content)}\")"
      ],
      "metadata": {
        "colab": {
          "base_uri": "https://localhost:8080/"
        },
        "id": "ddZTphd9eIa1",
        "outputId": "0753c473-8d55-4754-8042-5d084f6f1d13"
      },
      "execution_count": 76,
      "outputs": [
        {
          "output_type": "stream",
          "name": "stdout",
          "text": [
            "Total characters: 1189\n"
          ]
        }
      ]
    },
    {
      "cell_type": "code",
      "source": [
        "# Splitting documents\n",
        "\"\"\"\n",
        "TextSplitter: Object that splits a list of Documents into smaller chunks. Subclass of DocumentTransformer\n",
        "\"\"\"\n",
        "text_splitter = RecursiveCharacterTextSplitter(\n",
        "    chunk_size=1000,# chunk size (characters)\n",
        "    chunk_overlap=200 # chunk overlap (characters)\n",
        "    )\n",
        "# recursively split the document using common separators like new lines until each chunk is the appropriate size.\n",
        "all_splits = text_splitter.split_documents(docs)\n",
        "\n",
        "print(f\"Split blog post into {len(all_splits)} sub-documents.\")"
      ],
      "metadata": {
        "colab": {
          "base_uri": "https://localhost:8080/"
        },
        "id": "mOTaiSfaeeVb",
        "outputId": "c96af47e-1097-4a24-b442-e73317589432"
      },
      "execution_count": 77,
      "outputs": [
        {
          "output_type": "stream",
          "name": "stdout",
          "text": [
            "Split blog post into 12 sub-documents.\n"
          ]
        }
      ]
    },
    {
      "cell_type": "code",
      "source": [
        "# Storing documents\n",
        "\n",
        "\"\"\"\n",
        " embed the contents of each document split and insert these embeddings into a vector store\n",
        " \"\"\"\n",
        "_ = vector_store.add_documents(documents=all_splits)"
      ],
      "metadata": {
        "id": "8FKVNyDiejct"
      },
      "execution_count": 78,
      "outputs": []
    },
    {
      "cell_type": "code",
      "source": [
        "# Define prompt for question-answering\n",
        "prompt = hub.pull(\"rlm/rag-prompt\")"
      ],
      "metadata": {
        "id": "doHZYvtzSWEx"
      },
      "execution_count": 79,
      "outputs": []
    },
    {
      "cell_type": "code",
      "source": [
        "example_messages = prompt.invoke(\n",
        "    {\"context\": \"(context goes here)\", \"question\": \"(question goes here)\"}\n",
        ").to_messages()\n",
        "\n",
        "assert len(example_messages) == 1\n",
        "print(example_messages[0].content)"
      ],
      "metadata": {
        "colab": {
          "base_uri": "https://localhost:8080/"
        },
        "id": "O9b9BY0LS-3o",
        "outputId": "6e00bd46-4e93-44fa-9736-8480908a0afe"
      },
      "execution_count": 80,
      "outputs": [
        {
          "output_type": "stream",
          "name": "stdout",
          "text": [
            "You are an assistant for question-answering tasks. Use the following pieces of retrieved context to answer the question. If you don't know the answer, just say that you don't know. Use three sentences maximum and keep the answer concise.\n",
            "Question: (question goes here) \n",
            "Context: (context goes here) \n",
            "Answer:\n"
          ]
        }
      ]
    },
    {
      "cell_type": "code",
      "source": [
        "\"\"\"\n",
        "To use LangGraph, we need to define three things:\n",
        "\n",
        "The state of our application;\n",
        "The nodes of our application (i.e., application steps);\n",
        "The \"control flow\" of our application (e.g., the ordering of the steps).\n",
        "\"\"\"\n",
        "\n",
        "\n",
        "\n",
        "# Define state for application\n",
        "# The state of our application controls what data is input to the application, transferred between steps, and output by the application\n",
        "class State(TypedDict):\n",
        "    question: str\n",
        "    context: List[Document]\n",
        "    answer: str\n",
        "\n",
        "\n",
        "# Define application steps : NODES\n",
        "\n",
        "def retrieve(state: State):\n",
        "    retrieved_docs = vector_store.similarity_search(state[\"question\"])\n",
        "\n",
        "    return {\"context\": retrieved_docs}\n",
        "\n",
        "\n",
        "def generate(state: State):\n",
        "    docs_content = \"\\n\\n\".join(doc.page_content for doc in state[\"context\"])\n",
        "    messages = prompt.invoke({\"question\": state[\"question\"], \"context\": docs_content})\n",
        "    response = llm.invoke(messages)\n",
        "    return {\"answer\": response.content}"
      ],
      "metadata": {
        "id": "ttpuMlvYTCXx"
      },
      "execution_count": 81,
      "outputs": []
    },
    {
      "cell_type": "code",
      "source": [
        "# Control flow\n",
        "## Compile application and test\n",
        "graph_builder = StateGraph(State).add_sequence([retrieve, generate])\n",
        "graph_builder.add_edge(START, \"retrieve\")\n",
        "graph = graph_builder.compile()"
      ],
      "metadata": {
        "id": "f_O5UEDzTFRJ"
      },
      "execution_count": 82,
      "outputs": []
    },
    {
      "cell_type": "code",
      "source": [
        "response = graph.invoke({\"question\": \"what is the subject of documents\"})\n",
        "print(response[\"answer\"])"
      ],
      "metadata": {
        "colab": {
          "base_uri": "https://localhost:8080/"
        },
        "id": "609uGDjsTHKx",
        "outputId": "3bd82b7c-e6a8-4d92-84b6-0432e9b16b66"
      },
      "execution_count": 83,
      "outputs": [
        {
          "output_type": "stream",
          "name": "stdout",
          "text": [
            "The documents describe various attractions, activities, and landscapes in Tunisia, highlighting different seasons and regions. They cover romantic beaches, historic towns, natural beauty, archaeological sites, and sports like golf and hunting. Therefore, the subject of the documents is tourism and travel in Tunisia.\n"
          ]
        }
      ]
    }
  ]
}